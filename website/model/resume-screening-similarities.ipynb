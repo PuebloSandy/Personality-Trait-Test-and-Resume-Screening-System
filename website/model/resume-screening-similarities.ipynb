{
 "cells": [
  {
   "cell_type": "code",
   "execution_count": 27,
   "metadata": {},
   "outputs": [],
   "source": [
    "import PyPDF2\n",
    "import textract\n",
    "import re\n",
    "import string\n",
    "import pandas as pd\n",
    "import matplotlib.pyplot as plt\n",
    "%matplotlib inline\n",
    "\n",
    "# Open pdf file\n",
    "pdf = 'Pueblo,SandyG-Resume.pdf'\n",
    "resume_input = open('../static/resume-file/pdf-file/'+pdf,'rb')\n",
    "\n",
    "# Read file\n",
    "pdfReader = PyPDF2.PdfFileReader(resume_input)\n",
    "\n",
    "# Get total number of pages\n",
    "num_pages = pdfReader.numPages\n",
    "\n",
    "# Initialize a count for the number of pages\n",
    "count = 0\n",
    "\n",
    "# Initialize a text empty etring variable\n",
    "text = \"\"\n",
    "\n",
    "# Extract text from every page on the file\n",
    "while count < num_pages:\n",
    "    pageObj = pdfReader.getPage(count)\n",
    "    count +=1\n",
    "    text += pageObj.extractText()"
   ]
  },
  {
   "cell_type": "code",
   "execution_count": 28,
   "metadata": {},
   "outputs": [],
   "source": [
    "# Convert all strings to lowercase\n",
    "text = text.lower()\n",
    "\n",
    "# Remove numbers\n",
    "text = re.sub(r'\\d+','',text)\n",
    "\n",
    "# Remove punctuation\n",
    "text = text.translate(str.maketrans('','',string.punctuation))"
   ]
  },
  {
   "cell_type": "code",
   "execution_count": 29,
   "metadata": {},
   "outputs": [
    {
     "data": {
      "text/plain": [
       "' sandy g pueblo\\n  \\n\\na responsible and with proper knowledge of good coding skills well dedicated person can \\n\\nwork a great technical good communication skill and a good web programming \\n  \\n\\npersonal information\\n  \\n\\naddress \\ngovernor camins zamboanga city\\n  \\n\\nnationality \\nfilipino\\n \\n\\nage\\n \\n\\n \\n\\nbirthday \\njuly  \\n \\n\\nmobile \\n\\n \\n\\nlanguage\\n \\nspoken\\n\\n \\n\\nvisayanillongotagalogchavacano\\n\\nenglish\\n                                                                                                                             \\n      \\n \\n\\ngmail\\n \\nsadzpueblog\\nmailcom\\n \\n\\nfacebook \\nsandypueblogmailcom\\n  \\n\\neducation\\n \\n\\ncollege\\n \\n\\n \\n–\\n \\npresent western mindanao state university\\n  \\n\\nvocational\\n \\n\\n \\nnone\\n \\n\\ns\\nenior \\nh\\nigh \\ns\\nchool\\n\\n \\n\\n \\nnone\\n \\n\\nsecondary\\n \\n \\n\\n \\n \\n–\\n \\n secondary zamboanga national high school west\\n  \\n\\nprimary\\n \\n\\n \\n \\n–\\n \\n elementary baliwasan central school\\n   \\n\\nwork experience\\n  \\n \\n\\n \\n \\n\\n \\n \\n\\n \\nsoftware engineer subject project proposal  \\n  \\n\\n\\n \\nproject manager in group project  \\n  \\n\\n\\n \\nsupporting backend pro\\n grammer  \\n \\n\\n\\n \\nwith appeasing team work   \\n  \\n\\n\\n \\na good listener in a project discussion  \\n  \\n\\n\\n \\nwith short experience of sql php coding skills  \\n  \\n\\n\\n \\nanalyzing the system problems \\n  \\n\\nskills\\n \\n \\n\\nmedical  drawing  programming  shipping  control  painting \\n\\nmaintenancedevelo\\n ping analyze\\n '"
      ]
     },
     "execution_count": 29,
     "metadata": {},
     "output_type": "execute_result"
    }
   ],
   "source": [
    "text"
   ]
  },
  {
   "cell_type": "code",
   "execution_count": 30,
   "metadata": {},
   "outputs": [],
   "source": [
    "# Create dictionary with industrial and system engineering key terms by area\n",
    "terms = {'Quality/Six Sigma':['black belt','capability analysis','control charts','doe','dmaic','fishbone',\n",
    "                                'gage r&r', 'green belt','ishikawa','iso','kaizen','kpi','lean','metrics',\n",
    "                                'pdsa','performance improvement','process improvement','quality',\n",
    "                                'quality circles','quality tools','root cause','six sigma',\n",
    "                                'stability analysis','statistical analysis','tqm'],      \n",
    "            'Operations management':['automation','bottleneck','constraints','cycle time','efficiency','fmea',\n",
    "                                    'machinery','maintenance','manufacture','line balancing','oee','operations',\n",
    "                                    'operations research','optimization','overall equipment effectiveness',\n",
    "                                    'pfmea','process','process mapping','production','resources','safety',\n",
    "                                    'stoppage','value stream mapping','utilization'],\n",
    "            'Supply chain':['abc analysis','apics','customer','customs','delivery','driver','distribution','eoq','epq',\n",
    "                            'fleet','forecast','inventory','logistic','materials','outsourcing','procurement',\n",
    "                            'reorder point','rout','safety stock','scheduling','shipping','stock','suppliers',\n",
    "                            'third party logistics','transport','transportation','traffic','supply chain',\n",
    "                            'vendor','warehouse','wip','work in progress'],\n",
    "            'Project management':['administration','agile','budget','cost','direction','feasibility analysis',\n",
    "                                'artist','draw','painting','drawing','finance','kanban','leader','leadership','management','milestones','planning',\n",
    "                                'pmi','pmp','problem','project','risk','schedule','scrum','stakeholders'],\n",
    "            'Data analytics':['analytics','api','aws','big data','busines intelligence','clustering','code',\n",
    "                            'coding','data','database','data mining','data science','deep learning','hadoop',\n",
    "                            'hypothesis test','iot','internet','machine learning','modeling','nosql','nlp',\n",
    "                            'predictive','programming','python','r','sql','tableau','text mining',\n",
    "                            'visualuzation'],\n",
    "            'Healthcare':['adverse events','care','clinic','cphq','ergonomics','healthcare',\n",
    "                        'health care','health','hospital','human factors','medical','near misses',\n",
    "                        'patient','reporting system']}"
   ]
  },
  {
   "cell_type": "code",
   "execution_count": 31,
   "metadata": {},
   "outputs": [],
   "source": [
    "# Initializie score counters for each area\n",
    "quality = 0\n",
    "operations = 0\n",
    "supplychain = 0\n",
    "project = 0\n",
    "data = 0\n",
    "healthcare = 0\n",
    "\n",
    "# Create an empty list where the scores will be stored\n",
    "scores = []\n",
    "\n",
    "# Obtain the scores for each area\n",
    "for area in terms.keys():\n",
    "        \n",
    "    if area == 'Quality/Six Sigma':\n",
    "        for word in terms[area]:\n",
    "            if word in text:\n",
    "                quality +=1\n",
    "        Quality = scores.append(quality)\n",
    "        scores.append(quality)\n",
    "        \n",
    "    elif area == 'Operations management':\n",
    "        for word in terms[area]:\n",
    "            if word in text:\n",
    "                operations +=1\n",
    "        scores.append(operations)\n",
    "        \n",
    "    elif area == 'Supply chain':\n",
    "        for word in terms[area]:\n",
    "            if word in text:\n",
    "                supplychain +=1\n",
    "        scores.append(supplychain)\n",
    "        \n",
    "    elif area == 'Project management':\n",
    "        for word in terms[area]:\n",
    "            if word in text:\n",
    "                project +=1\n",
    "        scores.append(project)\n",
    "        \n",
    "    elif area == 'Data analytics':\n",
    "        for word in terms[area]:\n",
    "            if word in text:\n",
    "                data +=1\n",
    "        scores.append(data)\n",
    "        \n",
    "    else:\n",
    "        for word in terms[area]:\n",
    "            if word in text:\n",
    "                healthcare +=1\n",
    "        scores.append(healthcare)"
   ]
  },
  {
   "cell_type": "code",
   "execution_count": 32,
   "metadata": {},
   "outputs": [
    {
     "name": "stdout",
     "output_type": "stream",
     "text": [
      "Quality = 0 \n",
      "Operations = 1 \n",
      "Supply Chain = 1 \n",
      "Project = 5 \n",
      "Data Analytics = 4 \n",
      "health Care = 1\n"
     ]
    }
   ],
   "source": [
    "print(\"Quality =\",quality,\"\\nOperations =\",operations,\"\\nSupply Chain =\",supplychain,\"\\nProject =\",project,\"\\nData Analytics =\",data,\"\\nhealth Care =\",healthcare)"
   ]
  },
  {
   "cell_type": "code",
   "execution_count": 33,
   "metadata": {},
   "outputs": [
    {
     "ename": "ValueError",
     "evalue": "Shape of passed values is (7, 1), indices imply (6, 1)",
     "output_type": "error",
     "traceback": [
      "\u001b[1;31m---------------------------------------------------------------------------\u001b[0m",
      "\u001b[1;31mValueError\u001b[0m                                Traceback (most recent call last)",
      "\u001b[1;32mc:\\Users\\Sandy Pueblo\\Desktop\\personalityv1.0\\website\\model\\resume-screening-similarities.ipynb Cell 7\u001b[0m in \u001b[0;36m<module>\u001b[1;34m\u001b[0m\n\u001b[0;32m      <a href='vscode-notebook-cell:/c%3A/Users/Sandy%20Pueblo/Desktop/personalityv1.0/website/model/resume-screening-similarities.ipynb#W6sZmlsZQ%3D%3D?line=0'>1</a>\u001b[0m \u001b[39m# Create a data frame with the scores summary\u001b[39;00m\n\u001b[1;32m----> <a href='vscode-notebook-cell:/c%3A/Users/Sandy%20Pueblo/Desktop/personalityv1.0/website/model/resume-screening-similarities.ipynb#W6sZmlsZQ%3D%3D?line=1'>2</a>\u001b[0m summary \u001b[39m=\u001b[39m pd\u001b[39m.\u001b[39;49mDataFrame(scores,index\u001b[39m=\u001b[39;49mterms\u001b[39m.\u001b[39;49mkeys(),columns\u001b[39m=\u001b[39;49m[\u001b[39m'\u001b[39;49m\u001b[39mscores\u001b[39;49m\u001b[39m'\u001b[39;49m])\u001b[39m.\u001b[39msort_values(by\u001b[39m=\u001b[39m\u001b[39m'\u001b[39m\u001b[39mscores\u001b[39m\u001b[39m'\u001b[39m,ascending\u001b[39m=\u001b[39m\u001b[39mFalse\u001b[39;00m)\n\u001b[0;32m      <a href='vscode-notebook-cell:/c%3A/Users/Sandy%20Pueblo/Desktop/personalityv1.0/website/model/resume-screening-similarities.ipynb#W6sZmlsZQ%3D%3D?line=2'>3</a>\u001b[0m summary\n",
      "File \u001b[1;32mc:\\Users\\Sandy Pueblo\\AppData\\Local\\Programs\\Python\\Python310\\lib\\site-packages\\pandas\\core\\frame.py:711\u001b[0m, in \u001b[0;36mDataFrame.__init__\u001b[1;34m(self, data, index, columns, dtype, copy)\u001b[0m\n\u001b[0;32m    702\u001b[0m         mgr \u001b[39m=\u001b[39m arrays_to_mgr(\n\u001b[0;32m    703\u001b[0m             arrays,\n\u001b[0;32m    704\u001b[0m             columns,\n\u001b[1;32m   (...)\u001b[0m\n\u001b[0;32m    708\u001b[0m             typ\u001b[39m=\u001b[39mmanager,\n\u001b[0;32m    709\u001b[0m         )\n\u001b[0;32m    710\u001b[0m     \u001b[39melse\u001b[39;00m:\n\u001b[1;32m--> 711\u001b[0m         mgr \u001b[39m=\u001b[39m ndarray_to_mgr(\n\u001b[0;32m    712\u001b[0m             data,\n\u001b[0;32m    713\u001b[0m             index,\n\u001b[0;32m    714\u001b[0m             columns,\n\u001b[0;32m    715\u001b[0m             dtype\u001b[39m=\u001b[39;49mdtype,\n\u001b[0;32m    716\u001b[0m             copy\u001b[39m=\u001b[39;49mcopy,\n\u001b[0;32m    717\u001b[0m             typ\u001b[39m=\u001b[39;49mmanager,\n\u001b[0;32m    718\u001b[0m         )\n\u001b[0;32m    719\u001b[0m \u001b[39melse\u001b[39;00m:\n\u001b[0;32m    720\u001b[0m     mgr \u001b[39m=\u001b[39m dict_to_mgr(\n\u001b[0;32m    721\u001b[0m         {},\n\u001b[0;32m    722\u001b[0m         index,\n\u001b[1;32m   (...)\u001b[0m\n\u001b[0;32m    725\u001b[0m         typ\u001b[39m=\u001b[39mmanager,\n\u001b[0;32m    726\u001b[0m     )\n",
      "File \u001b[1;32mc:\\Users\\Sandy Pueblo\\AppData\\Local\\Programs\\Python\\Python310\\lib\\site-packages\\pandas\\core\\internals\\construction.py:324\u001b[0m, in \u001b[0;36mndarray_to_mgr\u001b[1;34m(values, index, columns, dtype, copy, typ)\u001b[0m\n\u001b[0;32m    319\u001b[0m \u001b[39m# _prep_ndarray ensures that values.ndim == 2 at this point\u001b[39;00m\n\u001b[0;32m    320\u001b[0m index, columns \u001b[39m=\u001b[39m _get_axes(\n\u001b[0;32m    321\u001b[0m     values\u001b[39m.\u001b[39mshape[\u001b[39m0\u001b[39m], values\u001b[39m.\u001b[39mshape[\u001b[39m1\u001b[39m], index\u001b[39m=\u001b[39mindex, columns\u001b[39m=\u001b[39mcolumns\n\u001b[0;32m    322\u001b[0m )\n\u001b[1;32m--> 324\u001b[0m _check_values_indices_shape_match(values, index, columns)\n\u001b[0;32m    326\u001b[0m \u001b[39mif\u001b[39;00m typ \u001b[39m==\u001b[39m \u001b[39m\"\u001b[39m\u001b[39marray\u001b[39m\u001b[39m\"\u001b[39m:\n\u001b[0;32m    328\u001b[0m     \u001b[39mif\u001b[39;00m \u001b[39missubclass\u001b[39m(values\u001b[39m.\u001b[39mdtype\u001b[39m.\u001b[39mtype, \u001b[39mstr\u001b[39m):\n",
      "File \u001b[1;32mc:\\Users\\Sandy Pueblo\\AppData\\Local\\Programs\\Python\\Python310\\lib\\site-packages\\pandas\\core\\internals\\construction.py:393\u001b[0m, in \u001b[0;36m_check_values_indices_shape_match\u001b[1;34m(values, index, columns)\u001b[0m\n\u001b[0;32m    391\u001b[0m passed \u001b[39m=\u001b[39m values\u001b[39m.\u001b[39mshape\n\u001b[0;32m    392\u001b[0m implied \u001b[39m=\u001b[39m (\u001b[39mlen\u001b[39m(index), \u001b[39mlen\u001b[39m(columns))\n\u001b[1;32m--> 393\u001b[0m \u001b[39mraise\u001b[39;00m \u001b[39mValueError\u001b[39;00m(\u001b[39mf\u001b[39m\u001b[39m\"\u001b[39m\u001b[39mShape of passed values is \u001b[39m\u001b[39m{\u001b[39;00mpassed\u001b[39m}\u001b[39;00m\u001b[39m, indices imply \u001b[39m\u001b[39m{\u001b[39;00mimplied\u001b[39m}\u001b[39;00m\u001b[39m\"\u001b[39m)\n",
      "\u001b[1;31mValueError\u001b[0m: Shape of passed values is (7, 1), indices imply (6, 1)"
     ]
    }
   ],
   "source": [
    "# Create a data frame with the scores summary\n",
    "summary = pd.DataFrame(scores,index=terms.keys(),columns=['scores']).sort_values(by='scores',ascending=False)\n",
    "summary"
   ]
  },
  {
   "cell_type": "code",
   "execution_count": null,
   "metadata": {},
   "outputs": [
    {
     "ename": "NameError",
     "evalue": "name 'summary' is not defined",
     "output_type": "error",
     "traceback": [
      "\u001b[1;31m---------------------------------------------------------------------------\u001b[0m",
      "\u001b[1;31mNameError\u001b[0m                                 Traceback (most recent call last)",
      "\u001b[1;32mc:\\Users\\Sandy Pueblo\\Desktop\\personalityv1.0\\website\\model\\resume-screening-similarities.ipynb Cell 8\u001b[0m in \u001b[0;36m<module>\u001b[1;34m\u001b[0m\n\u001b[0;32m      <a href='vscode-notebook-cell:/c%3A/Users/Sandy%20Pueblo/Desktop/personalityv1.0/website/model/resume-screening-similarities.ipynb#ch0000007?line=0'>1</a>\u001b[0m \u001b[39m# Create pie chart visualization\u001b[39;00m\n\u001b[0;32m      <a href='vscode-notebook-cell:/c%3A/Users/Sandy%20Pueblo/Desktop/personalityv1.0/website/model/resume-screening-similarities.ipynb#ch0000007?line=1'>2</a>\u001b[0m pie \u001b[39m=\u001b[39m plt\u001b[39m.\u001b[39mfigure(figsize\u001b[39m=\u001b[39m(\u001b[39m10\u001b[39m,\u001b[39m10\u001b[39m))\n\u001b[1;32m----> <a href='vscode-notebook-cell:/c%3A/Users/Sandy%20Pueblo/Desktop/personalityv1.0/website/model/resume-screening-similarities.ipynb#ch0000007?line=2'>3</a>\u001b[0m plt\u001b[39m.\u001b[39mpie(summary[\u001b[39m'\u001b[39m\u001b[39mscore\u001b[39m\u001b[39m'\u001b[39m], labels\u001b[39m=\u001b[39msummary\u001b[39m.\u001b[39mindex, explode \u001b[39m=\u001b[39m (\u001b[39m0.1\u001b[39m,\u001b[39m0\u001b[39m,\u001b[39m0\u001b[39m,\u001b[39m0\u001b[39m,\u001b[39m0\u001b[39m,\u001b[39m0\u001b[39m), autopct\u001b[39m=\u001b[39m\u001b[39m'\u001b[39m\u001b[39m%1.0f\u001b[39;00m\u001b[39m%%\u001b[39;00m\u001b[39m'\u001b[39m,shadow\u001b[39m=\u001b[39m\u001b[39mTrue\u001b[39;00m,startangle\u001b[39m=\u001b[39m\u001b[39m90\u001b[39m)\n\u001b[0;32m      <a href='vscode-notebook-cell:/c%3A/Users/Sandy%20Pueblo/Desktop/personalityv1.0/website/model/resume-screening-similarities.ipynb#ch0000007?line=3'>4</a>\u001b[0m plt\u001b[39m.\u001b[39mtitle(\u001b[39m'\u001b[39m\u001b[39mIndustrial Engineering Candidate - Resume Decomposition by Areas\u001b[39m\u001b[39m'\u001b[39m)\n\u001b[0;32m      <a href='vscode-notebook-cell:/c%3A/Users/Sandy%20Pueblo/Desktop/personalityv1.0/website/model/resume-screening-similarities.ipynb#ch0000007?line=4'>5</a>\u001b[0m plt\u001b[39m.\u001b[39maxis(\u001b[39m'\u001b[39m\u001b[39mequal\u001b[39m\u001b[39m'\u001b[39m)\n",
      "\u001b[1;31mNameError\u001b[0m: name 'summary' is not defined"
     ]
    },
    {
     "data": {
      "text/plain": [
       "<Figure size 720x720 with 0 Axes>"
      ]
     },
     "metadata": {},
     "output_type": "display_data"
    }
   ],
   "source": [
    "# Create pie chart visualization\n",
    "pie = plt.figure(figsize=(10,10))\n",
    "plt.pie(summary['score'], labels=summary.index, explode = (0.1,0,0,0,0,0), autopct='%1.0f%%',shadow=True,startangle=90)\n",
    "plt.title('Industrial Engineering Candidate - Resume Decomposition by Areas')\n",
    "plt.axis('equal')\n",
    "plt.show()\n",
    "\n",
    "# Save pie chart as a .png file\n",
    "pie.savefig('resume_screening_results.png')"
   ]
  }
 ],
 "metadata": {
  "kernelspec": {
   "display_name": "Python 3.10.2 64-bit",
   "language": "python",
   "name": "python3"
  },
  "language_info": {
   "codemirror_mode": {
    "name": "ipython",
    "version": 3
   },
   "file_extension": ".py",
   "mimetype": "text/x-python",
   "name": "python",
   "nbconvert_exporter": "python",
   "pygments_lexer": "ipython3",
   "version": "3.10.2"
  },
  "orig_nbformat": 4,
  "vscode": {
   "interpreter": {
    "hash": "1516b6868798d55bb9ac79fdbf48696962fe5ade415f0b0286dd0359e5007198"
   }
  }
 },
 "nbformat": 4,
 "nbformat_minor": 2
}
